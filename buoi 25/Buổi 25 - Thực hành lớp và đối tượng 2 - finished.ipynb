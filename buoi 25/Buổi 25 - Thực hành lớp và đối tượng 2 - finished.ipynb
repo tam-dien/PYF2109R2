{
 "cells": [
  {
   "cell_type": "markdown",
   "id": "b08a97f2",
   "metadata": {},
   "source": [
    "# Thực hành lớp và đối tượng 2"
   ]
  },
  {
   "cell_type": "markdown",
   "id": "cb5eadba",
   "metadata": {},
   "source": [
    "### Bài 1"
   ]
  },
  {
   "cell_type": "markdown",
   "id": "912cf868",
   "metadata": {},
   "source": [
    "Theo các nghiên cứu, đoạn đường đẹp nhất là đoạn đường mà ở đó độ cao trung bình của các tòa nhà là K.\n",
    "\n",
    "Có N tòa nhà, tòa nhà thứ i tính từ đầu đường có độ cao là Ai.\n",
    "\n",
    "Bạn hãy tìm một đoạn dài nhất các tòa nhà sao cho chúng có độ cao trung bình là K.\n",
    "\n",
    "<b>Dữ liệu đầu vào:</b>\n",
    "\n",
    "Biến K chứa K\n",
    "\n",
    "Biến L là list chứa các Ai\n",
    "\n",
    "<b>In ra:</b> vị trí và độ dài của đoạn list thỏa mãn yêu cầu (trong trường hợp có nhiều đoạn list, in ra đoạn có độ dài lớn nhất)\n",
    "\n",
    "<b>Ví dụ:</b>\n",
    "\n",
    "K = 5\n",
    "\n",
    "L = [2,4,5,6]\n",
    "\n",
    "<b>In ra:</b> Vị trí đoạn list thỏa màn yêu cầu là 1 và có độ dài là 3 (tức là đoạn [4,5,6])"
   ]
  },
  {
   "cell_type": "markdown",
   "id": "3e954d21",
   "metadata": {},
   "source": [
    "<b> Khai báo: </b>"
   ]
  },
  {
   "cell_type": "code",
   "execution_count": 1,
   "id": "4603b6fd",
   "metadata": {},
   "outputs": [],
   "source": [
    "K = 5\n",
    "L = [2,4,5,6]"
   ]
  },
  {
   "cell_type": "markdown",
   "id": "7abdba36",
   "metadata": {},
   "source": [
    "<b> Code: </b>"
   ]
  },
  {
   "cell_type": "code",
   "execution_count": 25,
   "id": "d12b38b9",
   "metadata": {},
   "outputs": [
    {
     "name": "stdout",
     "output_type": "stream",
     "text": [
      "Vị trí list thỏa mãn yêu cầu là 1 và có độ dài là 3\n"
     ]
    }
   ],
   "source": [
    "def trungbinhlist(a):\n",
    "    s=0\n",
    "    for i in a:\n",
    "        s+=i\n",
    "        tb = s/len(a)\n",
    "    return tb\n",
    "\n",
    "def trungbinhdoan(L,dodai):\n",
    "    listkq = []\n",
    "    for i in range(0,len(L) - dodai + 1):\n",
    "        listcat = L[i:i+dodai]\n",
    "        trungbinh = trungbinhlist(listcat)\n",
    "        listkq.append(trungbinh)\n",
    "    return listkq\n",
    "\n",
    "#print(trungbinhdoan(L,2))\n",
    "\n",
    "\n",
    "def main():\n",
    "    for dodai in range(len(L),0,-1):\n",
    "        listtrungbinh = trungbinhdoan(L,dodai)\n",
    "        #print(\"List giá trị trung bình các đoạn có độ dài\",dodai,\"trong L là:\",listtrungbinh)\n",
    "        for i in range(len(listtrungbinh)):\n",
    "            if listtrungbinh[i] == K:\n",
    "                print(\"Vị trí list thỏa mãn yêu cầu là\",i,\"và có độ dài là\",dodai)\n",
    "                return\n",
    "        \n",
    "    print(\"Không tìm được\")\n",
    "main()"
   ]
  },
  {
   "cell_type": "code",
   "execution_count": 16,
   "id": "b9b7b837",
   "metadata": {},
   "outputs": [],
   "source": [
    "L = [2,4,5,6,12]"
   ]
  },
  {
   "cell_type": "markdown",
   "id": "724bdb5b",
   "metadata": {},
   "source": [
    "### Bài 2"
   ]
  },
  {
   "cell_type": "markdown",
   "id": "82340c62",
   "metadata": {},
   "source": [
    "Trong một bản nhạc thường có những đoạn nhạc (mỗi đoạn nhạc là một dãy có nhiều hơn một nốt nhạc đi liền nhau) được sử dụng lại nhờ thủ pháp biến tấu đồng điệu.\n",
    "\n",
    "Thủ pháp này đơn giản là lặp lại một đoạn nhạc nào đó trước đó bằng cách giữ nguyên, hoặc tăng, giảm tất cả các nốt cùng một quãng cao nào đó.\n",
    "\n",
    "Chẳng hạn, đoạn với dãy cao độ: 2, 1, 5, 4, 7, 6 là biến tấu đồng điệu của đoạn: 5, 4, 8, 7, 10, 9.\n",
    "\n",
    "Vì các nốt của đoạn đều bị giảm đi một quãng 3. Độ dài mỗi đoạn nói trên đều là 6 (gồm 6 nốt).\n",
    "\n",
    "Yêu cầu: cho trước bản nhạc gồm N nốt nhạc, hãy tìm độ dài lớn nhất L có thể có của các đoạn biến tấu đồng điệu. Nếu không có đoạn biến tấu đồng điệu nào thì L = 0.\n",
    "\n",
    "<b>Dữ liệu đầu vào:</b>\n",
    "\n",
    "Biến Listnotnhac chứa các cao độ của nốt nhạc (độ dài của Listnotnhat lớn hơn 3 và bé hơn 5000)\n",
    "\n",
    "<b>In ra:</b> Số nguyên L\n",
    "\n",
    "<b>Ví dụ:</b>\n",
    "\n",
    "Listnotnhac = [67,6,7,5,4,1,2,3,4,5,23,4,5,3,5,6,12,56,57,58,59,13,14,13,14]\n",
    "\n",
    "<b>In ra:</b> 4"
   ]
  },
  {
   "cell_type": "markdown",
   "id": "9a8a52f5",
   "metadata": {},
   "source": [
    "<b> Khai báo: </b>"
   ]
  },
  {
   "cell_type": "code",
   "execution_count": 14,
   "id": "c821d2c5",
   "metadata": {},
   "outputs": [
    {
     "name": "stdout",
     "output_type": "stream",
     "text": [
      "5\n"
     ]
    }
   ],
   "source": [
    "Listnotnhac = [67,6,7,5,4,1,2,3,4,5,23,6,8,7,9,4,5,15,8,9,10,11,12,58,59,13,14,13,14]\n",
    "\n",
    "def bientaudongdieu(La,Lb):\n",
    "    for i in range(len(La) - 1):\n",
    "        if (La[i] - La[i+1] != Lb[i] - Lb[i+1]):\n",
    "            return False\n",
    "    return True\n",
    "n = len(Listnotnhac)\n",
    "def main():\n",
    "    for dodai in range(int(n/2),1,-1):\n",
    "        for vitridoangoc in range(0,n - 2*dodai + 1):\n",
    "            listgoc = Listnotnhac[vitridoangoc:vitridoangoc+dodai]\n",
    "            for vitridoandongdieu in range(vitridoangoc+dodai,n - dodai + 1):\n",
    "                listdongdieu = Listnotnhac[vitridoandongdieu:vitridoandongdieu+dodai]\n",
    "                if (bientaudongdieu(listgoc,listdongdieu)):\n",
    "                    return dodai\n",
    "print(main())"
   ]
  },
  {
   "cell_type": "code",
   "execution_count": 13,
   "id": "c643a38c",
   "metadata": {},
   "outputs": [
    {
     "name": "stdout",
     "output_type": "stream",
     "text": [
      "5\n"
     ]
    }
   ],
   "source": [
    "L = [67,6,7,5,4,1,2,3,4,5,23,6,8,7,9,4,5,15,8,9,10,11,12,58,59,13,14,13,14]\n",
    "\n",
    "def kiemtra(a):\n",
    "    global L\n",
    "    global dapso\n",
    "    dapso=0\n",
    "    for i in range(a,len(L)-a+1):\n",
    "        m=i\n",
    "        n=0\n",
    "        for j in range(0,a-1):\n",
    "            if L[n]-L[n+1]==L[m]-L[m+1]:\n",
    "                m=m+1\n",
    "                n=n+1\n",
    "                if n==a-1:\n",
    "                    dapso=a\n",
    "            else:\n",
    "                break       \n",
    "M=L\n",
    "maxx=0\n",
    "for dodai in range(int(len(L)/2),1,-1):\n",
    "    while len(L)!=dodai-1:\n",
    "        kiemtra(dodai)\n",
    "        L=L[1:len(L)]\n",
    "        if dapso>maxx:\n",
    "            maxx=dapso\n",
    "    L=M       \n",
    "print(maxx)\n"
   ]
  },
  {
   "cell_type": "markdown",
   "id": "a0fb033a",
   "metadata": {},
   "source": [
    "<b> Code: </b>"
   ]
  },
  {
   "cell_type": "code",
   "execution_count": null,
   "id": "51b08037",
   "metadata": {},
   "outputs": [],
   "source": []
  }
 ],
 "metadata": {
  "kernelspec": {
   "display_name": "Python 3 (ipykernel)",
   "language": "python",
   "name": "python3"
  },
  "language_info": {
   "codemirror_mode": {
    "name": "ipython",
    "version": 3
   },
   "file_extension": ".py",
   "mimetype": "text/x-python",
   "name": "python",
   "nbconvert_exporter": "python",
   "pygments_lexer": "ipython3",
   "version": "3.10.0"
  }
 },
 "nbformat": 4,
 "nbformat_minor": 5
}
