{
 "cells": [
  {
   "cell_type": "markdown",
   "id": "73456e5e",
   "metadata": {},
   "source": [
    "# Hàm\n",
    "\n",
    "### Hàm\n",
    "\n",
    "Cú pháp:\n",
    "\n",
    "`def <tên hàm>(<tham số)>:\n",
    "    //Nội dung hàm`\n",
    "\n",
    "Gọi hàm:\n",
    "`<tên hàm>(<giá trị đầu vào>)`\n",
    "\n",
    "Ví dụ:\n",
    "\n",
    "Hãy viết 1 hàm số để tính tổng 2 số đầu vào và in nó ra màn hình"
   ]
  },
  {
   "cell_type": "code",
   "execution_count": 3,
   "id": "af5b9f6d",
   "metadata": {},
   "outputs": [
    {
     "name": "stdout",
     "output_type": "stream",
     "text": [
      "12\n",
      "19\n"
     ]
    }
   ],
   "source": [
    "def tinhtong(a,b):\n",
    "    tong = a + b\n",
    "    print(tong)\n",
    "    \n",
    "tinhtong(5,7)\n",
    "tinhtong(6,13)\n"
   ]
  },
  {
   "cell_type": "markdown",
   "id": "a7c39f47",
   "metadata": {},
   "source": [
    "### Giá trị trả về của hàm\n",
    "\n",
    "# return\n",
    "\n",
    "Cú pháp:\n",
    "\n",
    "`retrun <giá trị trả về`\n",
    "\n",
    "##### Lưu ý: Sau khi thực hiện lệnh return, chương trình sẽ thoát khỏi hàm ngay lập tức (những lệnh sau đó không được thực hiện)\n",
    "\n",
    "Ví dụ:\n",
    "\n",
    "Hãy viết 1 hàm trả về giá trị trung bình của 2 số bất kỳ"
   ]
  },
  {
   "cell_type": "code",
   "execution_count": 7,
   "id": "0b527b95",
   "metadata": {},
   "outputs": [
    {
     "name": "stdout",
     "output_type": "stream",
     "text": [
      "4.5\n",
      "10.0\n"
     ]
    }
   ],
   "source": [
    "def giatritrungbinh(a,b):\n",
    "    tb = (a + b)/2\n",
    "    return tb\n",
    "\n",
    "c = giatritrungbinh(3,6)\n",
    "print(c)\n",
    "d = giatritrungbinh(12,8)\n",
    "print(d)"
   ]
  },
  {
   "cell_type": "markdown",
   "id": "1d7f8db0",
   "metadata": {},
   "source": [
    "### Bài tập"
   ]
  },
  {
   "cell_type": "markdown",
   "id": "75fb488b",
   "metadata": {},
   "source": [
    "Viết hàm kiểm tra số nguyên tố"
   ]
  },
  {
   "cell_type": "code",
   "execution_count": 19,
   "id": "63701bd7",
   "metadata": {},
   "outputs": [
    {
     "name": "stdout",
     "output_type": "stream",
     "text": [
      "Nhập vào một số:97\n",
      "Đây là số nguyên tố không lớn hơn 100\n"
     ]
    }
   ],
   "source": [
    "#Yêu cầu là viết 1 cái hàm, đưa vào 1 số, kiểm tra coi số đó có phải là số nguyên tố hay không!\n",
    "def songuyento(a):\n",
    "    if a < 2:\n",
    "        return False\n",
    "    for i in range(2,a):\n",
    "        if a % i == 0:\n",
    "            return False\n",
    "    return True\n",
    "\n",
    "def kiemtra100(a):\n",
    "    if a > 100:\n",
    "        return True\n",
    "    else:\n",
    "        return False\n",
    "\n",
    "so = int(input(\"Nhập vào một số:\"))\n",
    "    \n",
    "if songuyento(so):\n",
    "    if (kiemtra100(so)):\n",
    "        print(\"Đây là số nguyên tố lớn hơn 100\")\n",
    "    else:\n",
    "        print(\"Đây là số nguyên tố không lớn hơn 100\")\n",
    "else:\n",
    "    print(\"Đây không phải là số nguyên tố\")"
   ]
  },
  {
   "cell_type": "markdown",
   "id": "221103cf",
   "metadata": {},
   "source": [
    "Nhập vào 3 điểm toán, lý, hóa\n",
    "\n",
    "Hãy viết hàm in điểm trung bung bình rồi tính điểm trung bình của toán lý, toán hóa, lý hóa và toán lý hóa"
   ]
  },
  {
   "cell_type": "code",
   "execution_count": 21,
   "id": "1ba1d8ae",
   "metadata": {},
   "outputs": [
    {
     "name": "stdout",
     "output_type": "stream",
     "text": [
      "Nhập vào điểm toán4\n",
      "Nhập vào điểm lý5\n",
      "Nhập vào điểm hóa8\n",
      "4.5\n",
      "6.0\n",
      "6.5\n",
      "5.666666666666667\n"
     ]
    }
   ],
   "source": [
    "a = float(input(\"Nhập vào điểm toán\"))\n",
    "b = float(input(\"Nhập vào điểm lý\"))\n",
    "c = float(input(\"Nhập vào điểm hóa\"))\n",
    "\n",
    "def tb_tlh(d = a,e = b,f = c):\n",
    "    print((a+b)/2)\n",
    "    print((a+c)/2)\n",
    "    print((c+b)/2)\n",
    "    print((a + b + c)/3)\n",
    "    \n",
    "tb_tlh()"
   ]
  },
  {
   "cell_type": "markdown",
   "id": "50f43307",
   "metadata": {},
   "source": [
    "Viết hàm đếm số lượng từ của một chuỗi đưa vào"
   ]
  },
  {
   "cell_type": "code",
   "execution_count": 27,
   "id": "be785b29",
   "metadata": {},
   "outputs": [
    {
     "name": "stdout",
     "output_type": "stream",
     "text": [
      "Nhập vào chuỗi:strip\n",
      "1\n"
     ]
    }
   ],
   "source": [
    "s = input(\"Nhập vào chuỗi:\")\n",
    "#Xin chào các bạn\n",
    "\n",
    "def demtu(a):\n",
    "    kq = 1\n",
    "    a = a.strip()\n",
    "    for i in range(len(s)):\n",
    "        if a[i] == \" \" and a[i-1] != \" \":\n",
    "            kq += 1\n",
    "    return kq\n",
    "\n",
    "print(demtu(s))"
   ]
  },
  {
   "cell_type": "markdown",
   "id": "b4adef40",
   "metadata": {},
   "source": [
    "Viết một hàm vẽ hình tròn, một hàm vẽ hình vuông và một hàm vẽ hình tam giác đều (giá trị đầu vào là a)\n",
    "\n",
    "Tất cả hàm này, bắt đầu từ 1 vị trí, sau khi vẽ ra, con trỏ sẽ tiến tới vị trí tiếp theo, cách vì đầu một khoảng a + 10 theo chiều x từ trái sang"
   ]
  },
  {
   "cell_type": "code",
   "execution_count": 2,
   "id": "e405d1d4",
   "metadata": {},
   "outputs": [
    {
     "name": "stdout",
     "output_type": "stream",
     "text": [
      "Nhập a:50\n",
      "Nhập vào chuỗi:tròn,vuông,tam giác,vuông,tròn\n"
     ]
    }
   ],
   "source": [
    "import turtle\n",
    "import random\n",
    "\n",
    "t = turtle.Turtle()\n",
    "t.penup()\n",
    "t.back(200)\n",
    "a = int(input(\"Nhập a:\"))\n",
    "\n",
    "def randomcolor():\n",
    "    a = random.randint(1,3)\n",
    "    if (a == 1):\n",
    "        return \"red\"\n",
    "    if (a == 2):\n",
    "        return \"yellow\"\n",
    "    if (a == 3):\n",
    "        return \"green\"\n",
    "\n",
    "def hinhvuong():\n",
    "    global a\n",
    "    for i in range(4):\n",
    "        t.fd(a)\n",
    "        t.left(90)\n",
    "    t.penup()\n",
    "    t.fd(a + 10)\n",
    "    t.pendown()\n",
    "    \n",
    "def hinhtron():\n",
    "    global a\n",
    "    t.penup()\n",
    "    t.fd(a/2)\n",
    "    t.pendown()\n",
    "    t.circle(a/2)\n",
    "    t.penup()\n",
    "    t.fd(a/2 + 10)\n",
    "    t.pendown()\n",
    "    \n",
    "def tamgiac():\n",
    "    global a\n",
    "    for i in range(3):\n",
    "        t.fd(a)\n",
    "        t.left(120)\n",
    "    t.penup()\n",
    "    t.fd(a + 10)\n",
    "    t.pendown()\n",
    "    \n",
    "chuoi = input(\"Nhập vào chuỗi:\")\n",
    "chuoi += \",\"\n",
    "chuoit = \"\"\n",
    "for i in chuoi:\n",
    "    if (i != \",\"):\n",
    "        chuoit += i\n",
    "    else:\n",
    "        chuoit = chuoit.strip()\n",
    "        t.begin_fill()\n",
    "        t.color(\"black\",randomcolor())\n",
    "        if (chuoit == \"tròn\"):\n",
    "            hinhtron()\n",
    "        elif (chuoit == \"vuông\"):\n",
    "            hinhvuong()\n",
    "        elif (chuoit == \"tam giác\"):\n",
    "            tamgiac()\n",
    "        t.end_fill()\n",
    "        chuoit = \"\"\n",
    "\n"
   ]
  }
 ],
 "metadata": {
  "kernelspec": {
   "display_name": "Python 3 (ipykernel)",
   "language": "python",
   "name": "python3"
  },
  "language_info": {
   "codemirror_mode": {
    "name": "ipython",
    "version": 3
   },
   "file_extension": ".py",
   "mimetype": "text/x-python",
   "name": "python",
   "nbconvert_exporter": "python",
   "pygments_lexer": "ipython3",
   "version": "3.10.0"
  }
 },
 "nbformat": 4,
 "nbformat_minor": 5
}
