{
 "cells": [
  {
   "cell_type": "markdown",
   "id": "ec00548e",
   "metadata": {},
   "source": [
    "# Thực hành Lớp và Đối Tượng 1"
   ]
  },
  {
   "cell_type": "markdown",
   "id": "e9a5b1b0",
   "metadata": {},
   "source": [
    "### Bài 1"
   ]
  },
  {
   "cell_type": "markdown",
   "id": "b89649bc",
   "metadata": {},
   "source": [
    "Viết một lớp point để lưu trữ một điểm trong hệ trục tọa độ Oxyz\n",
    "\n",
    "Class này có:\n",
    "\n",
    "<b> Các biến: </b>\n",
    "- <b>x</b>: mang tọa độ x của diểm\n",
    "- <b>y</b>: mang tọa độ y của diểm\n",
    "- <b>z</b>: mang tọa độ z của diểm\n",
    "\n",
    "<b> Các hàm: </b>\n",
    "- <b>khoangcachgoc:</b> hàm này trả về khoảng cách từ điểm đến điểm gốc(0,0,0)\n",
    "- <b>khoangcach(tham số đầu vào là 1 đối tượng có lớp point):</b> hàm này trả về khoảng cách từ điểm đến điểm được đưa vào\n",
    "- <b>diemdoixung:</b> hàm này trả về điểm đối của điểm qua điểm gốc(0,0,0)\n",
    "- <b>diemtrungbinh(tham số đầu vào là 1 đối tượng có lớp point):</b> hàm này trả về điểm nằm chính giữa điểm và điểm được đưa vào\n",
    "- <b>thanghang(tham số đầu vào là 2 đối tượng có lớp point):</b> hàm này trả về kết quả kiểm tra 3 điểm có thẳng hằng hay không\n",
    "- <b>vuonggoc((tham số đầu vào là 3 đối tượng có lớp point):</b> hàm trả trả về kết quả kiểm tra 4 điểm có tạo thành 2 đường thẳng vuông góc được hay không"
   ]
  },
  {
   "cell_type": "code",
   "execution_count": 6,
   "id": "ca30ea7d",
   "metadata": {},
   "outputs": [
    {
     "name": "stdout",
     "output_type": "stream",
     "text": [
      "(-1,-1,-1)\n",
      "False\n"
     ]
    }
   ],
   "source": [
    "import math\n",
    "\n",
    "class point:\n",
    "    def __init__(self,x,y,z):\n",
    "        self.x = x\n",
    "        self.y = y\n",
    "        self.z = z\n",
    "    def indiem(self):\n",
    "        print(\"(\",self.x,\",\",self.y,\",\",self.z,\")\",sep = \"\")\n",
    "    def khoangcachgoc(self):\n",
    "        return ((self.x)**2 + (self.y)**2 + (self.z)**2)**(1/2)\n",
    "    def khoangcach(self,P):\n",
    "        return ((self.x - P.x)**2 + (self.y - P.y)**2 + (self.z - P.z)**2)**(1/2)\n",
    "    def diemdoixung(self):\n",
    "        x=self.x*(-1)\n",
    "        y=self.y*(-1)\n",
    "        z=self.z*(-1)\n",
    "        return point(x,y,z)\n",
    "    def diemtrungbinh(self,a):\n",
    "        x=(self.x + a.x)/2\n",
    "        y=(self.y + a.y)/2\n",
    "        z=(self.z + a.z)/2\n",
    "        return point(x,y,z)\n",
    "    def thanghang(self,b,c):\n",
    "        ab = []\n",
    "        bc = []\n",
    "        ab.append(b.x-self.x)\n",
    "        ab.append(b.y-self.y)\n",
    "        ab.append(b.z-self.z)\n",
    "        bc.append(c.x-b.x)\n",
    "        bc.append(c.y-b.y)\n",
    "        bc.append(c.z-b.z)\n",
    "        if (ab[0]/bc[0]) == (ab[1]/bc[1]) == (ab[2]/bc[2]):\n",
    "            return True\n",
    "        return False\n",
    "    def checkvuonggoc(a,b,c,d):\n",
    "        ab = []\n",
    "        cd = []\n",
    "        ab.append(b.x-a.x)\n",
    "        ab.append(b.y-a.y)\n",
    "        ab.append(b.z-a.z)\n",
    "        cd.append(c.x-d.x)\n",
    "        cd.append(c.y-d.y)\n",
    "        cd.append(c.z-d.z)\n",
    "        tong = 0\n",
    "        for i in range(3):\n",
    "            tong += ab[i]*cd[i]\n",
    "        dodaivectoab = (ab[0]**2 + ab[1]**2+ab[2]**2)*0.5\n",
    "        dodaivectocd = (cd[0]**2 + cd[1]**2+cd[2]**2)*0.5\n",
    "        tichvohuong = tong/(dodaivectoab*dodaivectocd)\n",
    "        if tichvohuong == 0:\n",
    "            return True\n",
    "        return False\n",
    "    def vuonggoc(self,a,b,c):\n",
    "        if self.chechvuonggoc(self,a,b,c) or self.chechvuonggoc(self,b,a,c) or self.chechvuonggoc(self,c,b,a):\n",
    "            return True\n",
    "        return False\n",
    "        \n",
    "diema = point(1,1,1)\n",
    "diemb = point(2,2,2)\n",
    "diemc = point(5,5,6)\n",
    "diemd = diema.diemdoixung()\n",
    "diemd.indiem()\n",
    "print(diema.thanghang(diemb,diemc))"
   ]
  },
  {
   "cell_type": "markdown",
   "id": "59c44a5f",
   "metadata": {},
   "source": [
    "### Bài 2"
   ]
  },
  {
   "cell_type": "markdown",
   "id": "b6f8706c",
   "metadata": {},
   "source": [
    "Viết một lớp plane để lưu trữ một mặt phẳng trong hệ trục tọa độ Oxyz (có dạng ax + by + cz + d= 0)\n",
    "\n",
    "Class này có:\n",
    "\n",
    "<b> Các biến: </b>\n",
    "- <b>a</b>: hệ số a của phương trình\n",
    "- <b>b</b>: hệ số b của phương trình\n",
    "- <b>c</b>: hệ số c của phương trình\n",
    "- <b>d</b>: hệ số d của phương trình\n",
    "\n",
    "<b> Các hàm: </b>\n",
    "- <b>khoangcachgoc:</b> hàm này trả về khoảng cách từ mặt phẳng đến điểm gốc(0,0,0)\n",
    "- <b>khoangcach(tham số đầu vào là 1 đối tượng có lớp point):</b> hàm này trả về khoảng cách từ mặt phẳng đến điểm được đưa vào\n",
    "- <b>tinhchat(tham số đầu vào là 1 đối tượng có lớp plane):</b> hàm này kiểm tra xem 2 mặt phẳng cắt nhau hay song song hay trùng nhau (trả về 0: cắt nhau, 1: song song, 2: trùng nhau)\n",
    "- <b>thuocmatphang(tham số đầu vào là 1 đối tượng có lớp point):</b> hàm này trả về kết quả điểm có thuộc mặt phẳng hay không\n",
    "- <b>matphangtrungbinh(tham số đầu vào là 1 đối tượng có lớp point):</b> hàm này trả về mặt phẳng nằm chính giữa mặt phẳng và điểm được đưa vào\n",
    "- <b>songsong(tham số đầu vào là 2 đối tượng có lớp point):</b> hàm này trả về kết quả kiểm tra 2 điểm có có tạo đường thẳng song song với mặt phẳng hay không\n",
    "- <b>vuonggoc((tham số đầu vào là 2 đối tượng có lớp point):</b> hàm này trả về kết quả kiểm tra 2 điểm có có tạo đường thẳng vuông góc với mặt phẳng hay không"
   ]
  },
  {
   "cell_type": "code",
   "execution_count": 25,
   "id": "ce32e9aa",
   "metadata": {},
   "outputs": [
    {
     "name": "stdout",
     "output_type": "stream",
     "text": [
      "1x + 1y + 0z + 0 = 0\n",
      "1x + 1y + 0z + -3.0 = 0\n"
     ]
    }
   ],
   "source": [
    "class plane:\n",
    "    def __init__(self,a,b,c,d):\n",
    "        self.a = a\n",
    "        self.b = b\n",
    "        self.c = c\n",
    "        self.d = d\n",
    "    def khoangcachgoc(self):\n",
    "        return abs(self.d)/((self.a**2 + self.b**2 + self.c**2))**(1/2)\n",
    "    def khoangcach(self,M):\n",
    "        tuso = abs(self.a*M.x + self.b*M.y + self.c*M.z + self.d)\n",
    "        mauso = ((self.a**2 + self.b**2 + self.c**2))**(1/2)\n",
    "        return tuso/mauso\n",
    "    def tinhchat(self,P):\n",
    "        vector1 = [self.a,self.b,self.c]\n",
    "        vector2 = [P.a,P.b,P.c]\n",
    "        tichvohuong = vector1[0]*vector2[0] + vector1[1]*vector2[1] + vector1[2]*vector2[2]\n",
    "        if tichvohuong == 1:\n",
    "            if (self.a == P.a and self.b == P.b and self.c == P.c and self.d == P.d):\n",
    "                return 2\n",
    "            else:\n",
    "                return 1\n",
    "        return 0\n",
    "    def thuocmatphang(self,M):\n",
    "        a = self.a*M.x + self.b*M.y + self.c*M.z + d\n",
    "        if a == 0:\n",
    "            return True\n",
    "        return False\n",
    "    def matphangtrungbinh(self,M):\n",
    "        a = self.a\n",
    "        b = self.b\n",
    "        c = self.c\n",
    "        ddiquaM = -(a*M.x + b*M.y + c*M.z)\n",
    "        d = (ddiquaM + self.d)/2\n",
    "        return plane(a,b,c,d)\n",
    "    def inra(self):\n",
    "        inraa = str(self.a)+\"x + \"\n",
    "        inrab = str(self.b)+\"y + \"\n",
    "        inrac = str(self.c)+\"z + \"\n",
    "        inrad = str(self.d)\n",
    "        print(inraa,inrab,inrac,inrad,\" = 0\",sep = \"\")\n",
    "    def songsong(self,A,B):\n",
    "        vector1 = [A.x - B.x,A.y - B.y,A.z - B.z]\n",
    "        vector2 = [self.a,self.b,self.c]\n",
    "        tichvohuong = vector1[0]*vector2[0] + vector1[1]*vector2[1] + vector1[2]*vector2[2]\n",
    "        if tichvohuong == 0:\n",
    "            return True\n",
    "        return False\n",
    "    def vuonggoc(self,A,B):\n",
    "        vector1 = [A.x - B.x,A.y - B.y,A.z - B.z]\n",
    "        vector2 = [self.a,self.b,self.c]\n",
    "        tichvohuong = vector1[0]*vector2[0] + vector1[1]*vector2[1] + vector1[2]*vector2[2]\n",
    "        if tichvohuong == 1:\n",
    "            return True\n",
    "        return False\n",
    "    \n",
    "matphang1 = plane(1,1,0,0)\n",
    "matphang1.inra()\n",
    "diem1 = point(5,1,3)\n",
    "matphang2 = matphang1.matphangtrungbinh(diem1)\n",
    "matphang2.inra()"
   ]
  },
  {
   "cell_type": "code",
   "execution_count": 15,
   "id": "9ce4879e",
   "metadata": {},
   "outputs": [
    {
     "name": "stdout",
     "output_type": "stream",
     "text": [
      "56\n"
     ]
    }
   ],
   "source": [
    "a = 5\n",
    "b = 6\n",
    "print(a,b,sep = \"\")"
   ]
  }
 ],
 "metadata": {
  "kernelspec": {
   "display_name": "Python 3 (ipykernel)",
   "language": "python",
   "name": "python3"
  },
  "language_info": {
   "codemirror_mode": {
    "name": "ipython",
    "version": 3
   },
   "file_extension": ".py",
   "mimetype": "text/x-python",
   "name": "python",
   "nbconvert_exporter": "python",
   "pygments_lexer": "ipython3",
   "version": "3.10.0"
  }
 },
 "nbformat": 4,
 "nbformat_minor": 5
}
