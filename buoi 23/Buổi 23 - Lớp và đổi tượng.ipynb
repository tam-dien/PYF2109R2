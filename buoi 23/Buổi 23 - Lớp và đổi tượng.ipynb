{
 "cells": [
  {
   "cell_type": "markdown",
   "id": "1c805421",
   "metadata": {},
   "source": [
    "# Lớp và đối tượng\n",
    "\n",
    "### Lớp (class) là gì?\n",
    "\n",
    "Lớp (Class) là tập hợp tất cả các đối tượng có chung các thuộc tính và hành vi."
   ]
  },
  {
   "cell_type": "markdown",
   "id": "812bf15e",
   "metadata": {},
   "source": [
    "### Khai báo lớp\n",
    "\n",
    "`class <tên lớp>:\n",
    "    <khai báo biến>\n",
    "    <khai báo hàm>`\n",
    "    \n",
    "Ví dụ:\n",
    "\n",
    "`class giangvien:\n",
    "    ten = \"Nguyễn Tâm Điền\"\n",
    "    mon = \"Python căn bản\"\n",
    "    def inten(self):\n",
    "        print(self.ten)        \n",
    "dien = giangvien()\n",
    "print(dien.mon)\n",
    "dien.inten()`\n",
    "\n",
    "##### Lưu ý:\n",
    "\n",
    "- giangvien là 1 lớp\n",
    "- dien là 1 đối tượng có tất cả thuộc tính (có biến ten, mon và hàm inten) của lớp giangvien\n",
    "- inten là 1 hàm trong lớp giangvien\n",
    "- dien.mon là 1 biến trong đối tượng dien\n",
    "- dien.inten() là cách để gọi hàm inten trong đối tượng dien\n",
    "\n",
    "\n",
    "<b> Hãy chạy thử đoạn lệnh ở ví dụ: </b>"
   ]
  },
  {
   "cell_type": "code",
   "execution_count": 7,
   "id": "40598ff8",
   "metadata": {},
   "outputs": [
    {
     "name": "stdout",
     "output_type": "stream",
     "text": [
      "Python căn bản\n",
      "Nguyễn Tâm Điền\n"
     ]
    }
   ],
   "source": [
    "class giangvien:\n",
    "    ten = \"Nguyễn Tâm Điền\"\n",
    "    mon = \"Python căn bản\"\n",
    "    def inten(self):\n",
    "        print(self.ten)        \n",
    "dien = giangvien()\n",
    "print(dien.mon)\n",
    "dien.inten()"
   ]
  },
  {
   "cell_type": "markdown",
   "id": "6c4daedf",
   "metadata": {},
   "source": [
    "<b> Hãy tạo 1 class hocvien với 1 biến và 1 def giúp in giá trị biến đó ra màn hình </b>"
   ]
  },
  {
   "cell_type": "code",
   "execution_count": 12,
   "id": "5358318d",
   "metadata": {},
   "outputs": [
    {
     "name": "stdout",
     "output_type": "stream",
     "text": [
      "Python siêu cấp vip pro\n"
     ]
    }
   ],
   "source": [
    "class hocvien:\n",
    "    mon = \"Python\"\n",
    "    def inbien(self):\n",
    "        print(self.mon)\n",
    "\n",
    "duy = hocvien()\n",
    "huy = hocvien()\n",
    "duy.mon = \"Python siêu cấp\"\n",
    "huy.mon = \"Python siêu cấp vip pro\"\n",
    "huy.inbien()\n"
   ]
  },
  {
   "cell_type": "code",
   "execution_count": 13,
   "id": "184593b5",
   "metadata": {
    "scrolled": true
   },
   "outputs": [
    {
     "name": "stdout",
     "output_type": "stream",
     "text": [
      "2\n"
     ]
    }
   ],
   "source": []
  },
  {
   "cell_type": "markdown",
   "id": "b2481280",
   "metadata": {},
   "source": [
    "### Tham số self\n",
    "\n",
    "Tham số self là tham số được sử dụng khi khai báo các hàm trong lớp\n",
    "\n",
    "Tham số self miêu tả chính lớp ta đang xây dựng, giúp chúng ta sử dụng được những biến và hàm của lớp đó\n",
    "\n",
    "Ví dụ:\n",
    "\n",
    "`class giangvien:\n",
    "    ten = \"Nguyễn Tâm Điền\"\n",
    "    mon = \"Python căn bản\"\n",
    "    def doiten(self,ten):\n",
    "        self.ten = ten\n",
    "    def inten(self):\n",
    "        print(self.ten)        \n",
    "dien = giangvien()\n",
    "dien.doiten(\"NTD\")\n",
    "dien.inten()`\n",
    "\n",
    "Sau khi thực hiện đoạn code trên, giá trị của biến ten trong đối tượng dien đã bị thay đổi thành \"NTD\"\n",
    "\n",
    "<b> Hãy chạy thử đoạn lệnh ở ví dụ: </b>"
   ]
  },
  {
   "cell_type": "code",
   "execution_count": 19,
   "id": "fd2f5d7c",
   "metadata": {},
   "outputs": [
    {
     "name": "stdout",
     "output_type": "stream",
     "text": [
      "NTD\n"
     ]
    }
   ],
   "source": [
    "class giangvien:\n",
    "    ten = \"Nguyễn Tâm Điền\"\n",
    "    mon = \"Python căn bản\"\n",
    "    def doiten(self,ten):\n",
    "        self.ten = ten\n",
    "        self.inten()\n",
    "    def inten(self):\n",
    "        print(self.ten)        \n",
    "dien = giangvien()\n",
    "dien.doiten(\"NTD\")"
   ]
  },
  {
   "cell_type": "markdown",
   "id": "4dfd8d1d",
   "metadata": {},
   "source": [
    "<b> Hãy thêm 1 def vào class hocvien giúp thay đổi giá trị biến bất kỳ trong class </b>"
   ]
  },
  {
   "cell_type": "code",
   "execution_count": 20,
   "id": "98d911c0",
   "metadata": {},
   "outputs": [
    {
     "name": "stdout",
     "output_type": "stream",
     "text": [
      "ML\n"
     ]
    }
   ],
   "source": [
    "class hocvien:\n",
    "    mon = \"Python\"\n",
    "    def __init__(self,mon):\n",
    "        self.mon = mon\n",
    "    def doimon(self,a):\n",
    "        self.mon = a\n",
    "    def inbien(self):\n",
    "        print(self.mon)\n",
    "\n",
    "duy = hocvien()\n",
    "huy = hocvien()\n",
    "duy.mon = \"Python siêu cấp\"\n",
    "huy.mon = \"Python siêu cấp vip pro\"\n",
    "huy.doimon(\"ML\")\n",
    "huy.inbien()\n"
   ]
  },
  {
   "cell_type": "markdown",
   "id": "b2909dd4",
   "metadata": {},
   "source": [
    "### Hàm \\_\\_init__\n",
    "\n",
    "Hàm \\_\\_init__ là hàm khởi tạo\n",
    "\n",
    "Ví dụ:\n",
    "\n",
    "`class giangvien:\n",
    "    def __init__(self,ten,mon):\n",
    "        self.ten = ten\n",
    "        self.mon = mon\n",
    "    def doiten(self,ten):\n",
    "        self.ten = ten\n",
    "    def inten(self):\n",
    "        print(self.ten)   \n",
    "dien = giangvien(\"Điền\",\"Python căn bản\")\n",
    "thang = giangvien(\"Thắng\",\"Python siêu cấp\")\n",
    "dien.inten()\n",
    "thang.inten()`\n",
    "\n",
    "<b> Hãy chạy thử đoạn lệnh ở ví dụ: </b>"
   ]
  },
  {
   "cell_type": "code",
   "execution_count": 21,
   "id": "f15266fb",
   "metadata": {},
   "outputs": [
    {
     "name": "stdout",
     "output_type": "stream",
     "text": [
      "Điền\n",
      "Thắng\n"
     ]
    }
   ],
   "source": [
    "class giangvien:\n",
    "    def __init__(self,ten,mon):\n",
    "        self.ten = ten\n",
    "        self.mon = mon\n",
    "    def doiten(self,ten):\n",
    "        self.ten = ten\n",
    "    def inten(self):\n",
    "        print(self.ten)   \n",
    "dien = giangvien(\"Điền\",\"Python căn bản\")\n",
    "thang = giangvien(\"Thắng\",\"Python siêu cấp\")\n",
    "dien.inten()\n",
    "thang.inten()"
   ]
  },
  {
   "cell_type": "markdown",
   "id": "9064cc0a",
   "metadata": {},
   "source": [
    "<b> Hãy thêm 1 def \\_\\_init__ vào class hocvien để khởi tạo tên và tuổi của học viên </b>"
   ]
  },
  {
   "cell_type": "code",
   "execution_count": 23,
   "id": "3e6a0dae",
   "metadata": {},
   "outputs": [
    {
     "name": "stdout",
     "output_type": "stream",
     "text": [
      "hau\n"
     ]
    }
   ],
   "source": [
    "class hocvien:\n",
    "    def __init__(self,ten,tuoi):\n",
    "        self.ten=ten\n",
    "        self.tuoi=tuoi\n",
    "    def inra(self):\n",
    "        print(self.ten)\n",
    "hau=hocvien(\"hau\",\"29\")\n",
    "hau.inra()\n"
   ]
  },
  {
   "cell_type": "code",
   "execution_count": 25,
   "id": "2b86f800",
   "metadata": {},
   "outputs": [
    {
     "name": "stdout",
     "output_type": "stream",
     "text": [
      "Ngân\n",
      "Lớp Python 1\n",
      "Năm 2021\n"
     ]
    }
   ],
   "source": [
    "class hocvien:\n",
    "\n",
    "    def __init__(self,ten,mon,namhoc):\n",
    "        self.ten = ten\n",
    "        self.mon = mon  \n",
    "        self.namhoc = namhoc\n",
    "        \n",
    "    def inten(self):\n",
    "        print(self.ten)\n",
    "    \n",
    "    def inmon(self):\n",
    "        print(self.mon)\n",
    "        \n",
    "    def innam(self):\n",
    "        print(self.namhoc)\n",
    "        \n",
    "ngan = hocvien('Ngân','Lớp Python 1','Năm 2021')\n",
    "ngan.inten()\n",
    "ngan.inmon()\n",
    "ngan.innam()\n"
   ]
  },
  {
   "cell_type": "markdown",
   "id": "d137f2f5",
   "metadata": {},
   "source": [
    "### Bài tập"
   ]
  },
  {
   "cell_type": "markdown",
   "id": "d243726c",
   "metadata": {},
   "source": [
    "Hãy xây dựng 1 class hình tròn có các thuộc tính sau:\n",
    "\n",
    "- biến x và y chứa tọa độ tâm đường tròn\n",
    "- biến r chứa bán kính đường chọn\n",
    "- hàm draw: để vẽ đường tròn"
   ]
  },
  {
   "cell_type": "code",
   "execution_count": 1,
   "id": "4121525f",
   "metadata": {},
   "outputs": [],
   "source": [
    "import turtle\n",
    "\n",
    "t = turtle.Turtle()\n",
    "\n",
    "class hinhtron:\n",
    "    def __init__(self,x,y,r):\n",
    "        self.x=x\n",
    "        self.y=y\n",
    "        self.r=r\n",
    "    def draw(self):\n",
    "        t.penup()\n",
    "        t.goto(self.x,self.y-self.r)\n",
    "        t.pendown()\n",
    "        t.circle(self.r)\n",
    "\n",
    "baitap=hinhtron(0,0,40)\n",
    "baitap.draw()\n"
   ]
  },
  {
   "cell_type": "markdown",
   "id": "9017050f",
   "metadata": {},
   "source": [
    "Tạo một lớp phân số có các thuộc tính:\n",
    "\n",
    "- biến tử số và mẫu số\n",
    "- hàm cong: để cộng với một đối tượng khác có lớp phân số rồi trả về dối tượng có phân số mới\n",
    "- hàm tru: để trừ với một đối tượng khác có lớp phân số rồi trả về dối tượng có phân số mới\n",
    "- hàm nhan: để nhân với một đối tượng khác có lớp phân số rồi trả về dối tượng có phân số mới\n",
    "- hàm chia: để chia với một đối tượng khác có lớp phân số rồi trả về dối tượng có phân số mới\n",
    "- hàm toigian: để tối giản phân số rồi trả về dối tượng có phân số mới"
   ]
  },
  {
   "cell_type": "code",
   "execution_count": 6,
   "id": "2ae72d93",
   "metadata": {},
   "outputs": [
    {
     "name": "stdout",
     "output_type": "stream",
     "text": [
      "4/5\n"
     ]
    }
   ],
   "source": [
    "def UCLN(a,b):\n",
    "    while a != b:\n",
    "        c = abs(a - b)\n",
    "        if a > b:\n",
    "            a = c\n",
    "        else:\n",
    "            b = c\n",
    "    return a\n",
    "\n",
    "class phanso():\n",
    "    def __init__(self,tuso,mauso):\n",
    "        self.tuso = tuso\n",
    "        self.mauso = mauso\n",
    "    def inra(self):\n",
    "        print(self.tuso,\"/\",self.mauso,sep = \"\")\n",
    "    def cong(self,a):\n",
    "        tuso=(self.mauso)*(a.tuso)+(self.tuso)*(a.mauso)\n",
    "        mauso=(self.mauso)*(a.mauso)\n",
    "        return phanso(tuso,mauso)\n",
    "    def tru(self,a):\n",
    "        tuso=(self.mauso)*(a.tuso)-(self.tuso)*(a.mauso)\n",
    "        mauso=(self.mauso)*(a.mauso)\n",
    "        return phanso(tuso,mauso)\n",
    "    def nhan(self,a):\n",
    "        tuso = (self.tuso)*(a.tuso)\n",
    "        mauso = (self.mauso)*(a.mauso)\n",
    "        return phanso(tuso,mauso)\n",
    "    def chia(self,a):\n",
    "        tuso = self.tuso * a.mauso\n",
    "        mauso = self.mauso * a.tuso\n",
    "        return phanso(tuso,mauso)\n",
    "    def toigian(self):\n",
    "        uoc = UCLN(self.tuso,self.mauso)\n",
    "        self.tuso = self.tuso//uoc\n",
    "        self.mauso = self.mauso//uoc\n",
    "\n",
    "phanso1 = phanso(3,4)\n",
    "phanso2 = phanso(16,20)\n",
    "phanso3 = phanso1.nhan(phanso2)\n",
    "phanso2.toigian()\n",
    "phanso2.inra()"
   ]
  },
  {
   "cell_type": "markdown",
   "id": "39a8cb80",
   "metadata": {},
   "source": [
    "Viết class NhanVien gồm các thuộc tính:\n",
    "\n",
    "<b> Các biến </b>\n",
    "\n",
    "- Tên\n",
    "- Tuổi\n",
    "- Địa chỉ\n",
    "- Tiền lương\n",
    "- Tổng số giờ làm\n",
    "\n",
    "<b> Các hàm </b>\n",
    "\n",
    "- nhap : Nhập các thông tin cho nhân viên từ bàn phím\n",
    "- in : In ra tất cả các thông tin của nhân viên\n",
    "- thuong: Tính toán và trả về số tiền thưởng của nhân viên theo công thức sau:\n",
    "\n",
    "    Nếu tổng số giờ làm của nhân viên >=200 thì thưởng = lương * 20%\n",
    "    \n",
    "    Nếu tổng số giờ làm của nhân viên <200 và >=100 thì thưởng = lương * 10%\n",
    "    \n",
    "    Nếu tổng số giờ làm của nhân viên <100 thì thưởng = 0"
   ]
  },
  {
   "cell_type": "code",
   "execution_count": 7,
   "id": "26d12a44",
   "metadata": {},
   "outputs": [
    {
     "name": "stdout",
     "output_type": "stream",
     "text": [
      "Tên: Nguyễn Văn A\n",
      "Tuổi: 25\n",
      "Địa chỉ: TP. Hồ Chí Minh\n",
      "Tiền lương: 20000000\n",
      "Tổng số giờ làm: 250\n",
      "Tiền thưởng của anh A là: 4000000\n"
     ]
    }
   ],
   "source": [
    "class NhanVien:\n",
    "    def __init__(self,ten,tuoi,diachi,tienluong,tongsogiolam):\n",
    "        self.ten = ten\n",
    "        self.tuoi = tuoi\n",
    "        self.diachi = diachi\n",
    "        self.tienluong = tienluong\n",
    "        self.tongsogiolam = tongsogiolam\n",
    "    def suathongtin(self,ten,tuoi,diachi,tienluong,tongsogiolam):\n",
    "        self.ten = ten\n",
    "        self.tuoi = tuoi\n",
    "        self.diachi = diachi\n",
    "        self.tienluong = tienluong\n",
    "        self.tongsogiolam = tongsogiolam\n",
    "    def inthongtin(self):\n",
    "        print(\"Tên:\",self.ten)\n",
    "        print(\"Tuổi:\",self.tuoi)\n",
    "        print(\"Địa chỉ:\",self.diachi)\n",
    "        print(\"Tiền lương:\",self.tienluong)\n",
    "        print(\"Tổng số giờ làm:\",self.tongsogiolam)\n",
    "    def thuong(self):\n",
    "        if self.tongsogiolam >= 200:\n",
    "            return int(self.tienluong*0.2)\n",
    "        if self.tongsogiolam >= 100:\n",
    "            return int(self.tienluong*0.1)\n",
    "        return 0\n",
    "    \n",
    "nhanvienA = NhanVien(\"Nguyễn Văn A\",25,\"TP. Hồ Chí Minh\",20000000,250)\n",
    "nhanvienA.inthongtin()\n",
    "print(\"Tiền thưởng của anh A là:\",nhanvienA.thuong())"
   ]
  },
  {
   "cell_type": "code",
   "execution_count": 15,
   "id": "8973a34a",
   "metadata": {},
   "outputs": [
    {
     "name": "stdout",
     "output_type": "stream",
     "text": [
      "Tên: Trần Văn A\n",
      "Tuổi: 27\n",
      "Địa chỉ: TP. Hồ Chí Minh\n",
      "Tiền lương: 18000000\n",
      "Tổng số giờ làm: 150\n"
     ]
    }
   ],
   "source": [
    "class NhanVien:\n",
    "    def __init__(self,ten,tuoi,diachi,tienluong,tongsogiolam):\n",
    "        self.thongtin = {}\n",
    "        self.thongtin[\"Tên\"] = ten\n",
    "        self.thongtin[\"Tuổi\"] = tuoi\n",
    "        self.thongtin[\"Địa chỉ\"] = diachi\n",
    "        self.thongtin[\"Tiền lương\"] = tienluong\n",
    "        self.thongtin[\"Tổng số giờ làm\"] = tongsogiolam\n",
    "    def suathongtin(self,*thongtin):\n",
    "        vitri = 0\n",
    "        for i in self.thongtin:\n",
    "            self.thongtin[i] = thongtin[vitri]\n",
    "            vitri += 1\n",
    "    def inthongtin(self):\n",
    "        for i in self.thongtin:\n",
    "            print(i,\": \",self.thongtin[i],sep = \"\")\n",
    "    def thuong(self):\n",
    "        tongsogiolam = thongtin[\"Tổng số giờ làm\"]\n",
    "        if tongsogiolam >= 200:\n",
    "            return int(self.tienluong*0.2)\n",
    "        if tongsogiolam >= 100:\n",
    "            return int(self.tienluong*0.1)\n",
    "        return 0\n",
    "    \n",
    "nhanvienA = NhanVien(\"Nguyễn Văn A\",25,\"TP. Hồ Chí Minh\",20000000,250)\n",
    "nhanvienA.suathongtin(\"Trần Văn A\",27,\"TP. Hồ Chí Minh\",18000000,150)\n",
    "nhanvienA.inthongtin()"
   ]
  }
 ],
 "metadata": {
  "kernelspec": {
   "display_name": "Python 3 (ipykernel)",
   "language": "python",
   "name": "python3"
  },
  "language_info": {
   "codemirror_mode": {
    "name": "ipython",
    "version": 3
   },
   "file_extension": ".py",
   "mimetype": "text/x-python",
   "name": "python",
   "nbconvert_exporter": "python",
   "pygments_lexer": "ipython3",
   "version": "3.10.0"
  }
 },
 "nbformat": 4,
 "nbformat_minor": 5
}
